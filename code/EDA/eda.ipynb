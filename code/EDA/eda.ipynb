{
 "cells": [
  {
   "cell_type": "code",
   "execution_count": 25,
   "metadata": {},
   "outputs": [],
   "source": [
    "# Import necessary dependencies\n",
    "import dask.bag as db\n",
    "import re\n",
    "import pandas as pd\n",
    "import json\n",
    "import matplotlib.pyplot as plt\n",
    "import seaborn as sns\n",
    "import plotly.express as px"
   ]
  },
  {
   "cell_type": "code",
   "execution_count": 2,
   "metadata": {},
   "outputs": [
    {
     "name": "stdout",
     "output_type": "stream",
     "text": [
      "(2689088, 7)\n"
     ]
    },
    {
     "data": {
      "text/html": [
       "<div>\n",
       "<style scoped>\n",
       "    .dataframe tbody tr th:only-of-type {\n",
       "        vertical-align: middle;\n",
       "    }\n",
       "\n",
       "    .dataframe tbody tr th {\n",
       "        vertical-align: top;\n",
       "    }\n",
       "\n",
       "    .dataframe thead th {\n",
       "        text-align: right;\n",
       "    }\n",
       "</style>\n",
       "<table border=\"1\" class=\"dataframe\">\n",
       "  <thead>\n",
       "    <tr style=\"text-align: right;\">\n",
       "      <th></th>\n",
       "      <th>id</th>\n",
       "      <th>title</th>\n",
       "      <th>category</th>\n",
       "      <th>abstract</th>\n",
       "      <th>authors</th>\n",
       "      <th>authors_parsed</th>\n",
       "      <th>update_date</th>\n",
       "    </tr>\n",
       "  </thead>\n",
       "  <tbody>\n",
       "    <tr>\n",
       "      <th>0</th>\n",
       "      <td>0704.0001</td>\n",
       "      <td>Calculation of prompt diphoton production cros...</td>\n",
       "      <td>['hep-ph']</td>\n",
       "      <td>A fully differential calculation in perturba...</td>\n",
       "      <td>C. Bal\\'azs, E. L. Berger, P. M. Nadolsky, C.-...</td>\n",
       "      <td>[['Balázs', 'C.', ''], ['Berger', 'E. L.', '']...</td>\n",
       "      <td>2008-11-26</td>\n",
       "    </tr>\n",
       "    <tr>\n",
       "      <th>1</th>\n",
       "      <td>0704.0002</td>\n",
       "      <td>Sparsity-certifying Graph Decompositions</td>\n",
       "      <td>['math.CO', 'cs.CG']</td>\n",
       "      <td>We describe a new algorithm, the $(k,\\ell)$-...</td>\n",
       "      <td>Ileana Streinu and Louis Theran</td>\n",
       "      <td>[['Streinu', 'Ileana', ''], ['Theran', 'Louis'...</td>\n",
       "      <td>2008-12-13</td>\n",
       "    </tr>\n",
       "    <tr>\n",
       "      <th>2</th>\n",
       "      <td>0704.0003</td>\n",
       "      <td>The evolution of the Earth-Moon system based o...</td>\n",
       "      <td>['physics.gen-ph']</td>\n",
       "      <td>The evolution of Earth-Moon system is descri...</td>\n",
       "      <td>Hongjun Pan</td>\n",
       "      <td>[['Pan', 'Hongjun', '']]</td>\n",
       "      <td>2008-01-13</td>\n",
       "    </tr>\n",
       "    <tr>\n",
       "      <th>3</th>\n",
       "      <td>0704.0004</td>\n",
       "      <td>A determinant of Stirling cycle numbers counts...</td>\n",
       "      <td>['math.CO']</td>\n",
       "      <td>We show that a determinant of Stirling cycle...</td>\n",
       "      <td>David Callan</td>\n",
       "      <td>[['Callan', 'David', '']]</td>\n",
       "      <td>2007-05-23</td>\n",
       "    </tr>\n",
       "    <tr>\n",
       "      <th>4</th>\n",
       "      <td>0704.0005</td>\n",
       "      <td>From dyadic $\\Lambda_{\\alpha}$ to $\\Lambda_{\\a...</td>\n",
       "      <td>['math.CA', 'math.FA']</td>\n",
       "      <td>In this paper we show how to compute the $\\L...</td>\n",
       "      <td>Wael Abu-Shammala and Alberto Torchinsky</td>\n",
       "      <td>[['Abu-Shammala', 'Wael', ''], ['Torchinsky', ...</td>\n",
       "      <td>2013-10-15</td>\n",
       "    </tr>\n",
       "  </tbody>\n",
       "</table>\n",
       "</div>"
      ],
      "text/plain": [
       "          id                                              title  \\\n",
       "0  0704.0001  Calculation of prompt diphoton production cros...   \n",
       "1  0704.0002           Sparsity-certifying Graph Decompositions   \n",
       "2  0704.0003  The evolution of the Earth-Moon system based o...   \n",
       "3  0704.0004  A determinant of Stirling cycle numbers counts...   \n",
       "4  0704.0005  From dyadic $\\Lambda_{\\alpha}$ to $\\Lambda_{\\a...   \n",
       "\n",
       "                 category                                           abstract  \\\n",
       "0              ['hep-ph']    A fully differential calculation in perturba...   \n",
       "1    ['math.CO', 'cs.CG']    We describe a new algorithm, the $(k,\\ell)$-...   \n",
       "2      ['physics.gen-ph']    The evolution of Earth-Moon system is descri...   \n",
       "3             ['math.CO']    We show that a determinant of Stirling cycle...   \n",
       "4  ['math.CA', 'math.FA']    In this paper we show how to compute the $\\L...   \n",
       "\n",
       "                                             authors  \\\n",
       "0  C. Bal\\'azs, E. L. Berger, P. M. Nadolsky, C.-...   \n",
       "1                    Ileana Streinu and Louis Theran   \n",
       "2                                        Hongjun Pan   \n",
       "3                                       David Callan   \n",
       "4           Wael Abu-Shammala and Alberto Torchinsky   \n",
       "\n",
       "                                      authors_parsed update_date  \n",
       "0  [['Balázs', 'C.', ''], ['Berger', 'E. L.', '']...  2008-11-26  \n",
       "1  [['Streinu', 'Ileana', ''], ['Theran', 'Louis'...  2008-12-13  \n",
       "2                           [['Pan', 'Hongjun', '']]  2008-01-13  \n",
       "3                          [['Callan', 'David', '']]  2007-05-23  \n",
       "4  [['Abu-Shammala', 'Wael', ''], ['Torchinsky', ...  2013-10-15  "
      ]
     },
     "execution_count": 2,
     "metadata": {},
     "output_type": "execute_result"
    }
   ],
   "source": [
    "# Load the main dataframe\n",
    "docs_df = pd.read_csv(\"ignore_folder/data/docs_df.csv\", low_memory=False)\n",
    "print(docs_df.shape)\n",
    "docs_df.head()"
   ]
  },
  {
   "cell_type": "markdown",
   "metadata": {},
   "source": [
    "## EDA"
   ]
  },
  {
   "cell_type": "code",
   "execution_count": 3,
   "metadata": {},
   "outputs": [
    {
     "data": {
      "text/plain": [
       "id                0\n",
       "title             0\n",
       "category          0\n",
       "abstract          0\n",
       "authors           0\n",
       "authors_parsed    0\n",
       "update_date       0\n",
       "dtype: int64"
      ]
     },
     "execution_count": 3,
     "metadata": {},
     "output_type": "execute_result"
    }
   ],
   "source": [
    "# Check for missing values\n",
    "docs_df.isna().sum()"
   ]
  },
  {
   "cell_type": "code",
   "execution_count": 4,
   "metadata": {},
   "outputs": [
    {
     "data": {
      "text/plain": [
       "0   2008-11-26\n",
       "1   2008-12-13\n",
       "2   2008-01-13\n",
       "3   2007-05-23\n",
       "4   2013-10-15\n",
       "Name: update_date, dtype: datetime64[ns]"
      ]
     },
     "execution_count": 4,
     "metadata": {},
     "output_type": "execute_result"
    }
   ],
   "source": [
    "docs_df[\"update_date\"] = pd.to_datetime(docs_df.loc[:, \"update_date\"])\n",
    "docs_df.loc[:, \"update_date\"].head()"
   ]
  },
  {
   "cell_type": "code",
   "execution_count": 5,
   "metadata": {},
   "outputs": [
    {
     "name": "stdout",
     "output_type": "stream",
     "text": [
      "The date range: 2007-05-23 00:00:00 - 2025-03-14 00:00:00\n"
     ]
    }
   ],
   "source": [
    "# Check the range of dates\n",
    "dates = docs_df.loc[:, \"update_date\"].sort_values(ascending=False)\n",
    "print(f\"The date range: {dates.min()} - {dates.max()}\")"
   ]
  },
  {
   "cell_type": "markdown",
   "metadata": {},
   "source": [
    "### Categories"
   ]
  },
  {
   "cell_type": "code",
   "execution_count": 6,
   "metadata": {},
   "outputs": [],
   "source": [
    "# Extract categories\n",
    "pattern = r\"'(.*?)'\""
   ]
  },
  {
   "cell_type": "code",
   "execution_count": 7,
   "metadata": {},
   "outputs": [
    {
     "data": {
      "text/plain": [
       "0              [hep-ph]\n",
       "1      [math.CO, cs.CG]\n",
       "2      [physics.gen-ph]\n",
       "3             [math.CO]\n",
       "4    [math.CA, math.FA]\n",
       "Name: category, dtype: object"
      ]
     },
     "execution_count": 7,
     "metadata": {},
     "output_type": "execute_result"
    }
   ],
   "source": [
    "# Transform categories into a series of lists from series of strings\n",
    "docs_df[\"category\"] = docs_df.loc[:, \"category\"].apply(lambda x: re.findall(pattern, x))\n",
    "docs_df.loc[:, \"category\"].head()"
   ]
  },
  {
   "cell_type": "code",
   "execution_count": 8,
   "metadata": {},
   "outputs": [
    {
     "data": {
      "text/html": [
       "<div>\n",
       "<style scoped>\n",
       "    .dataframe tbody tr th:only-of-type {\n",
       "        vertical-align: middle;\n",
       "    }\n",
       "\n",
       "    .dataframe tbody tr th {\n",
       "        vertical-align: top;\n",
       "    }\n",
       "\n",
       "    .dataframe thead th {\n",
       "        text-align: right;\n",
       "    }\n",
       "</style>\n",
       "<table border=\"1\" class=\"dataframe\">\n",
       "  <thead>\n",
       "    <tr style=\"text-align: right;\">\n",
       "      <th></th>\n",
       "      <th>category</th>\n",
       "      <th>count</th>\n",
       "    </tr>\n",
       "  </thead>\n",
       "  <tbody>\n",
       "    <tr>\n",
       "      <th>0</th>\n",
       "      <td>cs.LG</td>\n",
       "      <td>210055</td>\n",
       "    </tr>\n",
       "    <tr>\n",
       "      <th>1</th>\n",
       "      <td>hep-ph</td>\n",
       "      <td>186039</td>\n",
       "    </tr>\n",
       "    <tr>\n",
       "      <th>2</th>\n",
       "      <td>hep-th</td>\n",
       "      <td>172311</td>\n",
       "    </tr>\n",
       "    <tr>\n",
       "      <th>3</th>\n",
       "      <td>quant-ph</td>\n",
       "      <td>159114</td>\n",
       "    </tr>\n",
       "    <tr>\n",
       "      <th>4</th>\n",
       "      <td>cs.CV</td>\n",
       "      <td>148938</td>\n",
       "    </tr>\n",
       "  </tbody>\n",
       "</table>\n",
       "</div>"
      ],
      "text/plain": [
       "   category   count\n",
       "0     cs.LG  210055\n",
       "1    hep-ph  186039\n",
       "2    hep-th  172311\n",
       "3  quant-ph  159114\n",
       "4     cs.CV  148938"
      ]
     },
     "execution_count": 8,
     "metadata": {},
     "output_type": "execute_result"
    }
   ],
   "source": [
    "# Calculate the amount of each unique category\n",
    "unique_cats_count = docs_df.loc[:, \"category\"].explode().value_counts()\n",
    "unique_cats_count = unique_cats_count.reset_index()\n",
    "unique_cats_count.head()"
   ]
  },
  {
   "cell_type": "code",
   "execution_count": 9,
   "metadata": {},
   "outputs": [
    {
     "data": {
      "image/png": "[encoded data removed]",
      "text/plain": [
       "<Figure size 1000x2800 with 1 Axes>"
      ]
     },
     "metadata": {},
     "output_type": "display_data"
    }
   ],
   "source": [
    "# Plot the distribution for all the categories\n",
    "fig, ax = plt.subplots(figsize=(10, 28))\n",
    "\n",
    "sns.set_theme(style=\"whitegrid\", palette=\"pastel\")\n",
    "sns.barplot(unique_cats_count, x=\"count\", y=\"category\", color=\"b\")\n",
    "sns.despine(left=True, bottom=True)"
   ]
  },
  {
   "cell_type": "markdown",
   "metadata": {},
   "source": [
    "As you can see, we have a pretty large amount of categories. We have 2 possible choices here:\n",
    "- Combine less popular categories into one (e.g. \"unknown\") via threshold;\n",
    "- Bin this variable with the respect to the target variable (e.g. [OptBinning](https://gnpalencia.org/optbinning/))."
   ]
  },
  {
   "cell_type": "markdown",
   "metadata": {},
   "source": [
    "### Authors"
   ]
  },
  {
   "cell_type": "code",
   "execution_count": 10,
   "metadata": {},
   "outputs": [
    {
     "data": {
      "text/html": [
       "<div>\n",
       "<style scoped>\n",
       "    .dataframe tbody tr th:only-of-type {\n",
       "        vertical-align: middle;\n",
       "    }\n",
       "\n",
       "    .dataframe tbody tr th {\n",
       "        vertical-align: top;\n",
       "    }\n",
       "\n",
       "    .dataframe thead th {\n",
       "        text-align: right;\n",
       "    }\n",
       "</style>\n",
       "<table border=\"1\" class=\"dataframe\">\n",
       "  <thead>\n",
       "    <tr style=\"text-align: right;\">\n",
       "      <th></th>\n",
       "      <th>authors</th>\n",
       "      <th>authors_parsed</th>\n",
       "    </tr>\n",
       "  </thead>\n",
       "  <tbody>\n",
       "    <tr>\n",
       "      <th>0</th>\n",
       "      <td>C. Bal\\'azs, E. L. Berger, P. M. Nadolsky, C.-...</td>\n",
       "      <td>[['Balázs', 'C.', ''], ['Berger', 'E. L.', '']...</td>\n",
       "    </tr>\n",
       "    <tr>\n",
       "      <th>1</th>\n",
       "      <td>Ileana Streinu and Louis Theran</td>\n",
       "      <td>[['Streinu', 'Ileana', ''], ['Theran', 'Louis'...</td>\n",
       "    </tr>\n",
       "    <tr>\n",
       "      <th>2</th>\n",
       "      <td>Hongjun Pan</td>\n",
       "      <td>[['Pan', 'Hongjun', '']]</td>\n",
       "    </tr>\n",
       "    <tr>\n",
       "      <th>3</th>\n",
       "      <td>David Callan</td>\n",
       "      <td>[['Callan', 'David', '']]</td>\n",
       "    </tr>\n",
       "    <tr>\n",
       "      <th>4</th>\n",
       "      <td>Wael Abu-Shammala and Alberto Torchinsky</td>\n",
       "      <td>[['Abu-Shammala', 'Wael', ''], ['Torchinsky', ...</td>\n",
       "    </tr>\n",
       "  </tbody>\n",
       "</table>\n",
       "</div>"
      ],
      "text/plain": [
       "                                             authors  \\\n",
       "0  C. Bal\\'azs, E. L. Berger, P. M. Nadolsky, C.-...   \n",
       "1                    Ileana Streinu and Louis Theran   \n",
       "2                                        Hongjun Pan   \n",
       "3                                       David Callan   \n",
       "4           Wael Abu-Shammala and Alberto Torchinsky   \n",
       "\n",
       "                                      authors_parsed  \n",
       "0  [['Balázs', 'C.', ''], ['Berger', 'E. L.', '']...  \n",
       "1  [['Streinu', 'Ileana', ''], ['Theran', 'Louis'...  \n",
       "2                           [['Pan', 'Hongjun', '']]  \n",
       "3                          [['Callan', 'David', '']]  \n",
       "4  [['Abu-Shammala', 'Wael', ''], ['Torchinsky', ...  "
      ]
     },
     "execution_count": 10,
     "metadata": {},
     "output_type": "execute_result"
    }
   ],
   "source": [
    "docs_df.loc[:, [\"authors\", \"authors_parsed\"]].head()"
   ]
  },
  {
   "cell_type": "code",
   "execution_count": 11,
   "metadata": {},
   "outputs": [
    {
     "data": {
      "text/plain": [
       "\"C. Bal\\\\'azs, E. L. Berger, P. M. Nadolsky, C.-P. Yuan\""
      ]
     },
     "execution_count": 11,
     "metadata": {},
     "output_type": "execute_result"
    }
   ],
   "source": [
    "docs_df.loc[0, \"authors\"]"
   ]
  },
  {
   "cell_type": "code",
   "execution_count": 12,
   "metadata": {},
   "outputs": [
    {
     "data": {
      "text/plain": [
       "\"[['Balázs', 'C.', ''], ['Berger', 'E. L.', ''], ['Nadolsky', 'P. M.', ''], ['Yuan', 'C. -P.', '']]\""
      ]
     },
     "execution_count": 12,
     "metadata": {},
     "output_type": "execute_result"
    }
   ],
   "source": [
    "docs_df.loc[0, \"authors_parsed\"]"
   ]
  },
  {
   "cell_type": "markdown",
   "metadata": {},
   "source": [
    "From my point of view, it is better to use `authors` variable to extract the lists of authors. \\\n",
    "**Assumption**: each pair of author names is separated either by \"*,*\" or \"*and*\"."
   ]
  },
  {
   "cell_type": "code",
   "execution_count": 13,
   "metadata": {},
   "outputs": [],
   "source": [
    "# Apply RegEx to extract relevant information from \"authors\" column\n",
    "pattern = r\",\\s*|\\s+and\\s+\"\n",
    "\n",
    "docs_df[\"authors\"] = docs_df.loc[:, \"authors\"].apply(lambda x: re.split(pattern, x))"
   ]
  },
  {
   "cell_type": "code",
   "execution_count": 14,
   "metadata": {},
   "outputs": [
    {
     "data": {
      "text/plain": [
       "authors\n",
       "2)                   15012\n",
       "Italy                 7169\n",
       "3)                    6536\n",
       "USA                   5608\n",
       "Germany               4981\n",
       "Germany)              4317\n",
       "Astronomy             3746\n",
       "4)                    3616\n",
       "France                3572\n",
       "USA)                  3558\n",
       "Spain                 3533\n",
       "Italy)                3477\n",
       "et al                 3074\n",
       "Y. Zhang              2644\n",
       "France)               2535\n",
       "UK                    2504\n",
       "Russia)               2402\n",
       "2                     2351\n",
       "UK)                   2287\n",
       "5)                    2206\n",
       "Yang Liu              1987\n",
       "CNRS                  1900\n",
       "Y. Wang               1893\n",
       "J. Wang               1891\n",
       "India)                1888\n",
       "Z. Wang               1701\n",
       "Wei Wang              1693\n",
       "Y. Li                 1680\n",
       "Moscow                1641\n",
       "6)                    1500\n",
       "Russia                1497\n",
       "Lei Zhang             1486\n",
       "X. Liu                1478\n",
       "Takashi Taniguchi     1454\n",
       "Y. Gao                1437\n",
       "Japan                 1414\n",
       "Spain)                1408\n",
       "Y. Liu                1400\n",
       "Kenji Watanabe        1399\n",
       "CMS Collaboration     1348\n",
       "Name: count, dtype: int64"
      ]
     },
     "execution_count": 14,
     "metadata": {},
     "output_type": "execute_result"
    }
   ],
   "source": [
    "unique_authors_amount = docs_df.loc[:, \"authors\"].explode().value_counts()\n",
    "unique_authors_amount.head(40)"
   ]
  },
  {
   "cell_type": "markdown",
   "metadata": {},
   "source": [
    "As you can see, the result contains a lot of single words, countries, etc. \\\n",
    "So, we may remove them."
   ]
  },
  {
   "cell_type": "code",
   "execution_count": 19,
   "metadata": {},
   "outputs": [
    {
     "name": "stdout",
     "output_type": "stream",
     "text": [
      "2672167\n"
     ]
    },
    {
     "data": {
      "text/plain": [
       "authors\n",
       "et al                  3074\n",
       "Y. Zhang               2644\n",
       "Yang Liu               1987\n",
       "Y. Wang                1893\n",
       "J. Wang                1891\n",
       "Z. Wang                1701\n",
       "Wei Wang               1693\n",
       "Y. Li                  1680\n",
       "Lei Zhang              1486\n",
       "X. Liu                 1478\n",
       "Takashi Taniguchi      1454\n",
       "Y. Gao                 1437\n",
       "Y. Liu                 1400\n",
       "Kenji Watanabe         1399\n",
       "CMS Collaboration      1348\n",
       "Z. Xu                  1343\n",
       "Wei Zhang              1321\n",
       "L. Zhang               1311\n",
       "ATLAS Collaboration    1286\n",
       "C. Li                  1282\n",
       "Name: count, dtype: int64"
      ]
     },
     "execution_count": 19,
     "metadata": {},
     "output_type": "execute_result"
    }
   ],
   "source": [
    "del unique_authors_amount\n",
    "\n",
    "unique_authors_amount = docs_df.loc[:, \"authors\"].apply(lambda x: [i for i in x if len(i.split()) > 1]).explode().value_counts()\n",
    "print(unique_authors_amount.shape[0])\n",
    "unique_authors_amount.head(20)"
   ]
  },
  {
   "cell_type": "markdown",
   "metadata": {},
   "source": [
    "As you can see, we have quite a lot of authors. Even \"et al.\" is here. What a legendary man. \\\n",
    "It is quite hard to transform this variable into a categorical one. Moreover, it is almost pointless to search h-index for each author due to lack of full name in most cases."
   ]
  },
  {
   "cell_type": "markdown",
   "metadata": {},
   "source": [
    "### Update date"
   ]
  },
  {
   "cell_type": "code",
   "execution_count": 24,
   "metadata": {},
   "outputs": [
    {
     "name": "stdout",
     "output_type": "stream",
     "text": [
      "5334\n"
     ]
    },
    {
     "data": {
      "text/plain": [
       "update_date\n",
       "2007-05-23    129984\n",
       "2007-05-24        45\n",
       "2007-05-25        64\n",
       "2007-05-28        30\n",
       "2007-05-29        58\n",
       "2007-05-30        40\n",
       "2007-05-31        36\n",
       "2007-06-01        59\n",
       "2007-06-04        51\n",
       "2007-06-05        69\n",
       "Name: count, dtype: int64"
      ]
     },
     "execution_count": 24,
     "metadata": {},
     "output_type": "execute_result"
    }
   ],
   "source": [
    "# Calculate the amount of each date in our dataset\n",
    "date_counts = docs_df.loc[:, \"update_date\"].value_counts().sort_index()\n",
    "print(date_counts.shape[0])\n",
    "date_counts.head(10)"
   ]
  },
  {
   "cell_type": "code",
   "execution_count": null,
   "metadata": {},
   "outputs": [
    {
     "data": {
      "text/plain": [
       "update_date\n",
       "2007-05-31    130257\n",
       "2007-06-30      3024\n",
       "2007-07-31      2653\n",
       "2007-08-31      1769\n",
       "2007-09-30      1862\n",
       "               ...  \n",
       "2024-11-30     27353\n",
       "2024-12-31     32070\n",
       "2025-01-31     29310\n",
       "2025-02-28     34472\n",
       "2025-03-31     20092\n",
       "Freq: ME, Length: 215, dtype: int64"
      ]
     },
     "execution_count": 40,
     "metadata": {},
     "output_type": "execute_result"
    }
   ],
   "source": [
    "# Aggregate by months\n",
    "date_counts = docs_df.resample(\"ME\", on=\"update_date\").size()\n",
    "date_counts"
   ]
  },
  {
   "cell_type": "code",
   "execution_count": 42,
   "metadata": {},
   "outputs": [
    {
     "data": {
      "application/vnd.plotly.v1+json": {
       "config": {
        "plotlyServerURL": "https://plot.ly"
       },
       "data": [
        {
         "hovertemplate": "Date=%{x}<br>Number of Entries=%{y}<extra></extra>",
         "legendgroup": "",
         "marker": {
          "color": "#636efa",
          "pattern": {
           "shape": ""
          }
         },
         "name": "",
         "orientation": "v",
         "showlegend": false,
         "textposition": "auto",
         "type": "bar",
         "x": [
          "2007-05-31T00:00:00.000000000",
          "2007-06-30T00:00:00.000000000",
          "2007-07-31T00:00:00.000000000",
          "2007-08-31T00:00:00.000000000",
          "2007-09-30T00:00:00.000000000",
          "2007-10-31T00:00:00.000000000",
          "2007-11-30T00:00:00.000000000",
          "2007-12-31T00:00:00.000000000",
          "2008-01-31T00:00:00.000000000",
          "2008-02-29T00:00:00.000000000",
          "2008-03-31T00:00:00.000000000",
          "2008-04-30T00:00:00.000000000",
          "2008-05-31T00:00:00.000000000",
          "2008-06-30T00:00:00.000000000",
          "2008-07-31T00:00:00.000000000",
          "2008-08-31T00:00:00.000000000",
          "2008-09-30T00:00:00.000000000",
          "2008-10-31T00:00:00.000000000",
          "2008-11-30T00:00:00.000000000",
          "2008-12-31T00:00:00.000000000",
          "2009-01-31T00:00:00.000000000",
          "2009-02-28T00:00:00.000000000",
          "2009-03-31T00:00:00.000000000",
          "2009-04-30T00:00:00.000000000",
          "2009-05-31T00:00:00.000000000",
          "2009-06-30T00:00:00.000000000",
          "2009-07-31T00:00:00.000000000",
          "2009-08-31T00:00:00.000000000",
          "2009-09-30T00:00:00.000000000",
          "2009-10-31T00:00:00.000000000",
          "2009-11-30T00:00:00.000000000",
          "2009-12-31T00:00:00.000000000",
          "2010-01-31T00:00:00.000000000",
          "2010-02-28T00:00:00.000000000",
          "2010-03-31T00:00:00.000000000",
          "2010-04-30T00:00:00.000000000",
          "2010-05-31T00:00:00.000000000",
          "2010-06-30T00:00:00.000000000",
          "2010-07-31T00:00:00.000000000",
          "2010-08-31T00:00:00.000000000",
          "2010-09-30T00:00:00.000000000",
          "2010-10-31T00:00:00.000000000",
          "2010-11-30T00:00:00.000000000",
          "2010-12-31T00:00:00.000000000",
          "2011-01-31T00:00:00.000000000",
          "2011-02-28T00:00:00.000000000",
          "2011-03-31T00:00:00.000000000",
          "2011-04-30T00:00:00.000000000",
          "2011-05-31T00:00:00.000000000",
          "2011-06-30T00:00:00.000000000",
          "2011-07-31T00:00:00.000000000",
          "2011-08-31T00:00:00.000000000",
          "2011-09-30T00:00:00.000000000",
          "2011-10-31T00:00:00.000000000",
          "2011-11-30T00:00:00.000000000",
          "2011-12-31T00:00:00.000000000",
          "2012-01-31T00:00:00.000000000",
          "2012-02-29T00:00:00.000000000",
          "2012-03-31T00:00:00.000000000",
          "2012-04-30T00:00:00.000000000",
          "2012-05-31T00:00:00.000000000",
          "2012-06-30T00:00:00.000000000",
          "2012-07-31T00:00:00.000000000",
          "2012-08-31T00:00:00.000000000",
          "2012-09-30T00:00:00.000000000",
          "2012-10-31T00:00:00.000000000",
          "2012-11-30T00:00:00.000000000",
          "2012-12-31T00:00:00.000000000",
          "2013-01-31T00:00:00.000000000",
          "2013-02-28T00:00:00.000000000",
          "2013-03-31T00:00:00.000000000",
          "2013-04-30T00:00:00.000000000",
          "2013-05-31T00:00:00.000000000",
          "2013-06-30T00:00:00.000000000",
          "2013-07-31T00:00:00.000000000",
          "2013-08-31T00:00:00.000000000",
          "2013-09-30T00:00:00.000000000",
          "2013-10-31T00:00:00.000000000",
          "2013-11-30T00:00:00.000000000",
          "2013-12-31T00:00:00.000000000",
          "2014-01-31T00:00:00.000000000",
          "2014-02-28T00:00:00.000000000",
          "2014-03-31T00:00:00.000000000",
          "2014-04-30T00:00:00.000000000",
          "2014-05-31T00:00:00.000000000",
          "2014-06-30T00:00:00.000000000",
          "2014-07-31T00:00:00.000000000",
          "2014-08-31T00:00:00.000000000",
          "2014-09-30T00:00:00.000000000",
          "2014-10-31T00:00:00.000000000",
          "2014-11-30T00:00:00.000000000",
          "2014-12-31T00:00:00.000000000",
          "2015-01-31T00:00:00.000000000",
          "2015-02-28T00:00:00.000000000",
          "2015-03-31T00:00:00.000000000",
          "2015-04-30T00:00:00.000000000",
          "2015-05-31T00:00:00.000000000",
          "2015-06-30T00:00:00.000000000",
          "2015-07-31T00:00:00.000000000",
          "2015-08-31T00:00:00.000000000",
          "2015-09-30T00:00:00.000000000",
          "2015-10-31T00:00:00.000000000",
          "2015-11-30T00:00:00.000000000",
          "2015-12-31T00:00:00.000000000",
          "2016-01-31T00:00:00.000000000",
          "2016-02-29T00:00:00.000000000",
          "2016-03-31T00:00:00.000000000",
          "2016-04-30T00:00:00.000000000",
          "2016-05-31T00:00:00.000000000",
          "2016-06-30T00:00:00.000000000",
          "2016-07-31T00:00:00.000000000",
          "2016-08-31T00:00:00.000000000",
          "2016-09-30T00:00:00.000000000",
          "2016-10-31T00:00:00.000000000",
          "2016-11-30T00:00:00.000000000",
          "2016-12-31T00:00:00.000000000",
          "2017-01-31T00:00:00.000000000",
          "2017-02-28T00:00:00.000000000",
          "2017-03-31T00:00:00.000000000",
          "2017-04-30T00:00:00.000000000",
          "2017-05-31T00:00:00.000000000",
          "2017-06-30T00:00:00.000000000",
          "2017-07-31T00:00:00.000000000",
          "2017-08-31T00:00:00.000000000",
          "2017-09-30T00:00:00.000000000",
          "2017-10-31T00:00:00.000000000",
          "2017-11-30T00:00:00.000000000",
          "2017-12-31T00:00:00.000000000",
          "2018-01-31T00:00:00.000000000",
          "2018-02-28T00:00:00.000000000",
          "2018-03-31T00:00:00.000000000",
          "2018-04-30T00:00:00.000000000",
          "2018-05-31T00:00:00.000000000",
          "2018-06-30T00:00:00.000000000",
          "2018-07-31T00:00:00.000000000",
          "2018-08-31T00:00:00.000000000",
          "2018-09-30T00:00:00.000000000",
          "2018-10-31T00:00:00.000000000",
          "2018-11-30T00:00:00.000000000",
          "2018-12-31T00:00:00.000000000",
          "2019-01-31T00:00:00.000000000",
          "2019-02-28T00:00:00.000000000",
          "2019-03-31T00:00:00.000000000",
          "2019-04-30T00:00:00.000000000",
          "2019-05-31T00:00:00.000000000",
          "2019-06-30T00:00:00.000000000",
          "2019-07-31T00:00:00.000000000",
          "2019-08-31T00:00:00.000000000",
          "2019-09-30T00:00:00.000000000",
          "2019-10-31T00:00:00.000000000",
          "2019-11-30T00:00:00.000000000",
          "2019-12-31T00:00:00.000000000",
          "2020-01-31T00:00:00.000000000",
          "2020-02-29T00:00:00.000000000",
          "2020-03-31T00:00:00.000000000",
          "2020-04-30T00:00:00.000000000",
          "2020-05-31T00:00:00.000000000",
          "2020-06-30T00:00:00.000000000",
          "2020-07-31T00:00:00.000000000",
          "2020-08-31T00:00:00.000000000",
          "2020-09-30T00:00:00.000000000",
          "2020-10-31T00:00:00.000000000",
          "2020-11-30T00:00:00.000000000",
          "2020-12-31T00:00:00.000000000",
          "2021-01-31T00:00:00.000000000",
          "2021-02-28T00:00:00.000000000",
          "2021-03-31T00:00:00.000000000",
          "2021-04-30T00:00:00.000000000",
          "2021-05-31T00:00:00.000000000",
          "2021-06-30T00:00:00.000000000",
          "2021-07-31T00:00:00.000000000",
          "2021-08-31T00:00:00.000000000",
          "2021-09-30T00:00:00.000000000",
          "2021-10-31T00:00:00.000000000",
          "2021-11-30T00:00:00.000000000",
          "2021-12-31T00:00:00.000000000",
          "2022-01-31T00:00:00.000000000",
          "2022-02-28T00:00:00.000000000",
          "2022-03-31T00:00:00.000000000",
          "2022-04-30T00:00:00.000000000",
          "2022-05-31T00:00:00.000000000",
          "2022-06-30T00:00:00.000000000",
          "2022-07-31T00:00:00.000000000",
          "2022-08-31T00:00:00.000000000",
          "2022-09-30T00:00:00.000000000",
          "2022-10-31T00:00:00.000000000",
          "2022-11-30T00:00:00.000000000",
          "2022-12-31T00:00:00.000000000",
          "2023-01-31T00:00:00.000000000",
          "2023-02-28T00:00:00.000000000",
          "2023-03-31T00:00:00.000000000",
          "2023-04-30T00:00:00.000000000",
          "2023-05-31T00:00:00.000000000",
          "2023-06-30T00:00:00.000000000",
          "2023-07-31T00:00:00.000000000",
          "2023-08-31T00:00:00.000000000",
          "2023-09-30T00:00:00.000000000",
          "2023-10-31T00:00:00.000000000",
          "2023-11-30T00:00:00.000000000",
          "2023-12-31T00:00:00.000000000",
          "2024-01-31T00:00:00.000000000",
          "2024-02-29T00:00:00.000000000",
          "2024-03-31T00:00:00.000000000",
          "2024-04-30T00:00:00.000000000",
          "2024-05-31T00:00:00.000000000",
          "2024-06-30T00:00:00.000000000",
          "2024-07-31T00:00:00.000000000",
          "2024-08-31T00:00:00.000000000",
          "2024-09-30T00:00:00.000000000",
          "2024-10-31T00:00:00.000000000",
          "2024-11-30T00:00:00.000000000",
          "2024-12-31T00:00:00.000000000",
          "2025-01-31T00:00:00.000000000",
          "2025-02-28T00:00:00.000000000",
          "2025-03-31T00:00:00.000000000"
         ],
         "xaxis": "x",
         "y": {
          "bdata": "0fwBANALAABdCgAA6QYAAEYHAADMCAAAGQgAAEEHAACWBwAAFCMAAC4HAAAPCQAAmAcAAHsHAAAECQAAbAcAABcJAAAQCgAA2IoAACsWAACXDwAA7w4AAMgNAADFDgAAMAsAAIMSAADqDwAA4AwAAEwqAABuAAEAjc0BAHsQAADhEAAABhIAALcQAAAZHQAATxEAAKoMAAAIDQAAXgsAAJINAAB/EQAAuCEAAGQTAAA1EAAAIxkAAJYVAADZEgAAYRUAAAsRAAC0FgAAcRQAAC8WAAB3EAAAShcAAOgPAAApEAAADhEAANoRAADDEAAAvBEAAAUSAAA+EwAA+hkAAAkRAADwFQAA5xIAAJ4QAACrFgAAQhQAAPoUAACpFgAAdCgAALATAABEFgAANRQAAHMVAAC5GAAA9xUAAPsWAAAxGAAAlxgAAA0YAAC7FwAAlRcAANoUAAAEGQAACxUAAB4ZAADGHwAANkcAAJobAACbFwAAIxcAAKc/AAC5GQAAYcgAAAs2AQAaHgAAchsAAAkkAAB2IgAAyh0AAEshAAD7IwAA8SEAAE0mAAACIwAAiyMAAFomAACKHgAA9UsAANs9AADEIwAAez0AACclAADxIwAAYyMAACEpAAAPJgAAWSgAAN0kAADoIQAA7DQAAJkoAAAWKQAA4yoAAAglAABRKAAAwSgAAOkrAAAsKgAAmy8AACspAADSKwAAyS8AAAgpAAB3MQAABC4AAPkrAABoKwAA8C4AAFkvAABiLgAAuDQAAI0tAACmMgAAxkUAADEzAAA/OAAApywAACUtAADsOgAAIjEAADozAADrOAAAiDUAAPk5AACNQQAAczYAAO03AACkPgAAxjUAAOs6AADrOAAAWzkAAHZDAACMOwAAnDkAANVBAABIOwAAEDoAAD4/AADdPAAAsDwAAE46AAD3NwAALDgAACdGAAAPOgAAODwAAKg+AAD7OgAAeT0AAB0/AAAZRAAAw0QAAKw5AACHOQAAMTwAAPZKAADKPQAAnU0AAKtOAADERwAA/E4AALpFAADkUgAAtE0AABBIAACgTAAAvk8AAJhWAACjVwAAFVsAAD1cAAANZAAALFYAAFBjAAD9hAAA2WoAAEZ9AAB+cgAAqIYAAHxOAAA=",
          "dtype": "i4"
         },
         "yaxis": "y"
        }
       ],
       "layout": {
        "barmode": "relative",
        "legend": {
         "tracegroupgap": 0
        },
        "template": {
         "data": {
          "bar": [
           {
            "error_x": {
             "color": "#2a3f5f"
            },
            "error_y": {
             "color": "#2a3f5f"
            },
            "marker": {
             "line": {
              "color": "white",
              "width": 0.5
             },
             "pattern": {
              "fillmode": "overlay",
              "size": 10,
              "solidity": 0.2
             }
            },
            "type": "bar"
           }
          ],
          "barpolar": [
           {
            "marker": {
             "line": {
              "color": "white",
              "width": 0.5
             },
             "pattern": {
              "fillmode": "overlay",
              "size": 10,
              "solidity": 0.2
             }
            },
            "type": "barpolar"
           }
          ],
          "carpet": [
           {
            "aaxis": {
             "endlinecolor": "#2a3f5f",
             "gridcolor": "#C8D4E3",
             "linecolor": "#C8D4E3",
             "minorgridcolor": "#C8D4E3",
             "startlinecolor": "#2a3f5f"
            },
            "baxis": {
             "endlinecolor": "#2a3f5f",
             "gridcolor": "#C8D4E3",
             "linecolor": "#C8D4E3",
             "minorgridcolor": "#C8D4E3",
             "startlinecolor": "#2a3f5f"
            },
            "type": "carpet"
           }
          ],
          "choropleth": [
           {
            "colorbar": {
             "outlinewidth": 0,
             "ticks": ""
            },
            "type": "choropleth"
           }
          ],
          "contour": [
           {
            "colorbar": {
             "outlinewidth": 0,
             "ticks": ""
            },
            "colorscale": [
             [
              0,
              "#0d0887"
             ],
             [
              0.1111111111111111,
              "#46039f"
             ],
             [
              0.2222222222222222,
              "#7201a8"
             ],
             [
              0.3333333333333333,
              "#9c179e"
             ],
             [
              0.4444444444444444,
              "#bd3786"
             ],
             [
              0.5555555555555556,
              "#d8576b"
             ],
             [
              0.6666666666666666,
              "#ed7953"
             ],
             [
              0.7777777777777778,
              "#fb9f3a"
             ],
             [
              0.8888888888888888,
              "#fdca26"
             ],
             [
              1,
              "#f0f921"
             ]
            ],
            "type": "contour"
           }
          ],
          "contourcarpet": [
           {
            "colorbar": {
             "outlinewidth": 0,
             "ticks": ""
            },
            "type": "contourcarpet"
           }
          ],
          "heatmap": [
           {
            "colorbar": {
             "outlinewidth": 0,
             "ticks": ""
            },
            "colorscale": [
             [
              0,
              "#0d0887"
             ],
             [
              0.1111111111111111,
              "#46039f"
             ],
             [
              0.2222222222222222,
              "#7201a8"
             ],
             [
              0.3333333333333333,
              "#9c179e"
             ],
             [
              0.4444444444444444,
              "#bd3786"
             ],
             [
              0.5555555555555556,
              "#d8576b"
             ],
             [
              0.6666666666666666,
              "#ed7953"
             ],
             [
              0.7777777777777778,
              "#fb9f3a"
             ],
             [
              0.8888888888888888,
              "#fdca26"
             ],
             [
              1,
              "#f0f921"
             ]
            ],
            "type": "heatmap"
           }
          ],
          "histogram": [
           {
            "marker": {
             "pattern": {
              "fillmode": "overlay",
              "size": 10,
              "solidity": 0.2
             }
            },
            "type": "histogram"
           }
          ],
          "histogram2d": [
           {
            "colorbar": {
             "outlinewidth": 0,
             "ticks": ""
            },
            "colorscale": [
             [
              0,
              "#0d0887"
             ],
             [
              0.1111111111111111,
              "#46039f"
             ],
             [
              0.2222222222222222,
              "#7201a8"
             ],
             [
              0.3333333333333333,
              "#9c179e"
             ],
             [
              0.4444444444444444,
              "#bd3786"
             ],
             [
              0.5555555555555556,
              "#d8576b"
             ],
             [
              0.6666666666666666,
              "#ed7953"
             ],
             [
              0.7777777777777778,
              "#fb9f3a"
             ],
             [
              0.8888888888888888,
              "#fdca26"
             ],
             [
              1,
              "#f0f921"
             ]
            ],
            "type": "histogram2d"
           }
          ],
          "histogram2dcontour": [
           {
            "colorbar": {
             "outlinewidth": 0,
             "ticks": ""
            },
            "colorscale": [
             [
              0,
              "#0d0887"
             ],
             [
              0.1111111111111111,
              "#46039f"
             ],
             [
              0.2222222222222222,
              "#7201a8"
             ],
             [
              0.3333333333333333,
              "#9c179e"
             ],
             [
              0.4444444444444444,
              "#bd3786"
             ],
             [
              0.5555555555555556,
              "#d8576b"
             ],
             [
              0.6666666666666666,
              "#ed7953"
             ],
             [
              0.7777777777777778,
              "#fb9f3a"
             ],
             [
              0.8888888888888888,
              "#fdca26"
             ],
             [
              1,
              "#f0f921"
             ]
            ],
            "type": "histogram2dcontour"
           }
          ],
          "mesh3d": [
           {
            "colorbar": {
             "outlinewidth": 0,
             "ticks": ""
            },
            "type": "mesh3d"
           }
          ],
          "parcoords": [
           {
            "line": {
             "colorbar": {
              "outlinewidth": 0,
              "ticks": ""
             }
            },
            "type": "parcoords"
           }
          ],
          "pie": [
           {
            "automargin": true,
            "type": "pie"
           }
          ],
          "scatter": [
           {
            "fillpattern": {
             "fillmode": "overlay",
             "size": 10,
             "solidity": 0.2
            },
            "type": "scatter"
           }
          ],
          "scatter3d": [
           {
            "line": {
             "colorbar": {
              "outlinewidth": 0,
              "ticks": ""
             }
            },
            "marker": {
             "colorbar": {
              "outlinewidth": 0,
              "ticks": ""
             }
            },
            "type": "scatter3d"
           }
          ],
          "scattercarpet": [
           {
            "marker": {
             "colorbar": {
              "outlinewidth": 0,
              "ticks": ""
             }
            },
            "type": "scattercarpet"
           }
          ],
          "scattergeo": [
           {
            "marker": {
             "colorbar": {
              "outlinewidth": 0,
              "ticks": ""
             }
            },
            "type": "scattergeo"
           }
          ],
          "scattergl": [
           {
            "marker": {
             "colorbar": {
              "outlinewidth": 0,
              "ticks": ""
             }
            },
            "type": "scattergl"
           }
          ],
          "scattermap": [
           {
            "marker": {
             "colorbar": {
              "outlinewidth": 0,
              "ticks": ""
             }
            },
            "type": "scattermap"
           }
          ],
          "scattermapbox": [
           {
            "marker": {
             "colorbar": {
              "outlinewidth": 0,
              "ticks": ""
             }
            },
            "type": "scattermapbox"
           }
          ],
          "scatterpolar": [
           {
            "marker": {
             "colorbar": {
              "outlinewidth": 0,
              "ticks": ""
             }
            },
            "type": "scatterpolar"
           }
          ],
          "scatterpolargl": [
           {
            "marker": {
             "colorbar": {
              "outlinewidth": 0,
              "ticks": ""
             }
            },
            "type": "scatterpolargl"
           }
          ],
          "scatterternary": [
           {
            "marker": {
             "colorbar": {
              "outlinewidth": 0,
              "ticks": ""
             }
            },
            "type": "scatterternary"
           }
          ],
          "surface": [
           {
            "colorbar": {
             "outlinewidth": 0,
             "ticks": ""
            },
            "colorscale": [
             [
              0,
              "#0d0887"
             ],
             [
              0.1111111111111111,
              "#46039f"
             ],
             [
              0.2222222222222222,
              "#7201a8"
             ],
             [
              0.3333333333333333,
              "#9c179e"
             ],
             [
              0.4444444444444444,
              "#bd3786"
             ],
             [
              0.5555555555555556,
              "#d8576b"
             ],
             [
              0.6666666666666666,
              "#ed7953"
             ],
             [
              0.7777777777777778,
              "#fb9f3a"
             ],
             [
              0.8888888888888888,
              "#fdca26"
             ],
             [
              1,
              "#f0f921"
             ]
            ],
            "type": "surface"
           }
          ],
          "table": [
           {
            "cells": {
             "fill": {
              "color": "#EBF0F8"
             },
             "line": {
              "color": "white"
             }
            },
            "header": {
             "fill": {
              "color": "#C8D4E3"
             },
             "line": {
              "color": "white"
             }
            },
            "type": "table"
           }
          ]
         },
         "layout": {
          "annotationdefaults": {
           "arrowcolor": "#2a3f5f",
           "arrowhead": 0,
           "arrowwidth": 1
          },
          "autotypenumbers": "strict",
          "coloraxis": {
           "colorbar": {
            "outlinewidth": 0,
            "ticks": ""
           }
          },
          "colorscale": {
           "diverging": [
            [
             0,
             "#8e0152"
            ],
            [
             0.1,
             "#c51b7d"
            ],
            [
             0.2,
             "#de77ae"
            ],
            [
             0.3,
             "#f1b6da"
            ],
            [
             0.4,
             "#fde0ef"
            ],
            [
             0.5,
             "#f7f7f7"
            ],
            [
             0.6,
             "#e6f5d0"
            ],
            [
             0.7,
             "#b8e186"
            ],
            [
             0.8,
             "#7fbc41"
            ],
            [
             0.9,
             "#4d9221"
            ],
            [
             1,
             "#276419"
            ]
           ],
           "sequential": [
            [
             0,
             "#0d0887"
            ],
            [
             0.1111111111111111,
             "#46039f"
            ],
            [
             0.2222222222222222,
             "#7201a8"
            ],
            [
             0.3333333333333333,
             "#9c179e"
            ],
            [
             0.4444444444444444,
             "#bd3786"
            ],
            [
             0.5555555555555556,
             "#d8576b"
            ],
            [
             0.6666666666666666,
             "#ed7953"
            ],
            [
             0.7777777777777778,
             "#fb9f3a"
            ],
            [
             0.8888888888888888,
             "#fdca26"
            ],
            [
             1,
             "#f0f921"
            ]
           ],
           "sequentialminus": [
            [
             0,
             "#0d0887"
            ],
            [
             0.1111111111111111,
             "#46039f"
            ],
            [
             0.2222222222222222,
             "#7201a8"
            ],
            [
             0.3333333333333333,
             "#9c179e"
            ],
            [
             0.4444444444444444,
             "#bd3786"
            ],
            [
             0.5555555555555556,
             "#d8576b"
            ],
            [
             0.6666666666666666,
             "#ed7953"
            ],
            [
             0.7777777777777778,
             "#fb9f3a"
            ],
            [
             0.8888888888888888,
             "#fdca26"
            ],
            [
             1,
             "#f0f921"
            ]
           ]
          },
          "colorway": [
           "#636efa",
           "#EF553B",
           "#00cc96",
           "#ab63fa",
           "#FFA15A",
           "#19d3f3",
           "#FF6692",
           "#B6E880",
           "#FF97FF",
           "#FECB52"
          ],
          "font": {
           "color": "#2a3f5f"
          },
          "geo": {
           "bgcolor": "white",
           "lakecolor": "white",
           "landcolor": "white",
           "showlakes": true,
           "showland": true,
           "subunitcolor": "#C8D4E3"
          },
          "hoverlabel": {
           "align": "left"
          },
          "hovermode": "closest",
          "mapbox": {
           "style": "light"
          },
          "paper_bgcolor": "white",
          "plot_bgcolor": "white",
          "polar": {
           "angularaxis": {
            "gridcolor": "#EBF0F8",
            "linecolor": "#EBF0F8",
            "ticks": ""
           },
           "bgcolor": "white",
           "radialaxis": {
            "gridcolor": "#EBF0F8",
            "linecolor": "#EBF0F8",
            "ticks": ""
           }
          },
          "scene": {
           "xaxis": {
            "backgroundcolor": "white",
            "gridcolor": "#DFE8F3",
            "gridwidth": 2,
            "linecolor": "#EBF0F8",
            "showbackground": true,
            "ticks": "",
            "zerolinecolor": "#EBF0F8"
           },
           "yaxis": {
            "backgroundcolor": "white",
            "gridcolor": "#DFE8F3",
            "gridwidth": 2,
            "linecolor": "#EBF0F8",
            "showbackground": true,
            "ticks": "",
            "zerolinecolor": "#EBF0F8"
           },
           "zaxis": {
            "backgroundcolor": "white",
            "gridcolor": "#DFE8F3",
            "gridwidth": 2,
            "linecolor": "#EBF0F8",
            "showbackground": true,
            "ticks": "",
            "zerolinecolor": "#EBF0F8"
           }
          },
          "shapedefaults": {
           "line": {
            "color": "#2a3f5f"
           }
          },
          "ternary": {
           "aaxis": {
            "gridcolor": "#DFE8F3",
            "linecolor": "#A2B1C6",
            "ticks": ""
           },
           "baxis": {
            "gridcolor": "#DFE8F3",
            "linecolor": "#A2B1C6",
            "ticks": ""
           },
           "bgcolor": "white",
           "caxis": {
            "gridcolor": "#DFE8F3",
            "linecolor": "#A2B1C6",
            "ticks": ""
           }
          },
          "title": {
           "x": 0.05
          },
          "xaxis": {
           "automargin": true,
           "gridcolor": "#EBF0F8",
           "linecolor": "#EBF0F8",
           "ticks": "",
           "title": {
            "standoff": 15
           },
           "zerolinecolor": "#EBF0F8",
           "zerolinewidth": 2
          },
          "yaxis": {
           "automargin": true,
           "gridcolor": "#EBF0F8",
           "linecolor": "#EBF0F8",
           "ticks": "",
           "title": {
            "standoff": 15
           },
           "zerolinecolor": "#EBF0F8",
           "zerolinewidth": 2
          }
         }
        },
        "title": {
         "text": "Dates distribution over time"
        },
        "xaxis": {
         "anchor": "y",
         "domain": [
          0,
          1
         ],
         "dtick": "M4",
         "tickangle": 45,
         "tickformat": "%b %Y",
         "title": {
          "text": "Date"
         }
        },
        "yaxis": {
         "anchor": "x",
         "domain": [
          0,
          1
         ],
         "title": {
          "text": "Number of Entries"
         }
        }
       }
      }
     },
     "metadata": {},
     "output_type": "display_data"
    }
   ],
   "source": [
    "# Plot the distribution of dates\n",
    "fig = px.bar(\n",
    "    x=date_counts.index,\n",
    "    y=date_counts.values,\n",
    "    labels={\"x\": \"Date\", \"y\": \"Number of Entries\"},\n",
    "    title=\"Dates distribution over time\"\n",
    ")\n",
    "\n",
    "fig.update_xaxes(\n",
    "    dtick=\"M4\",\n",
    "    tickformat=\"%b %Y\",\n",
    "    tickangle=45,\n",
    ")\n",
    "\n",
    "fig.update_layout(\n",
    "    xaxis_title=\"Date\",\n",
    "    yaxis_title=\"Number of Entries\",\n",
    "    template=\"plotly_white\"\n",
    ")\n",
    "\n",
    "fig.show()"
   ]
  },
  {
   "cell_type": "code",
   "execution_count": 41,
   "metadata": {},
   "outputs": [
    {
     "data": {
      "text/plain": [
       "update_date\n",
       "2007-05-31    130257\n",
       "2009-11-30    118157\n",
       "2015-06-30     79371\n",
       "2009-10-31     65646\n",
       "2015-05-31     51297\n",
       "               ...  \n",
       "2008-08-31      1900\n",
       "2007-09-30      1862\n",
       "2007-12-31      1857\n",
       "2008-03-31      1838\n",
       "2007-08-31      1769\n",
       "Length: 215, dtype: int64"
      ]
     },
     "execution_count": 41,
     "metadata": {},
     "output_type": "execute_result"
    }
   ],
   "source": [
    "date_counts.sort_values(ascending=False)"
   ]
  },
  {
   "cell_type": "markdown",
   "metadata": {},
   "source": [
    "The amount of publications per month. However, we can see some outliers in our data:\n",
    "- The first one may mean that quite a lot of publications were published/updated before 2007-05-23;\n",
    "- The second one occured during the period from the beginning of October to the end of November of 2009;\n",
    "- The third one occured during the period from the beginning of May to the end June of 2015."
   ]
  }
 ],
 "metadata": {
  "kernelspec": {
   "display_name": "Python 3",
   "language": "python",
   "name": "python3"
  },
  "language_info": {
   "codemirror_mode": {
    "name": "ipython",
    "version": 3
   },
   "file_extension": ".py",
   "mimetype": "text/x-python",
   "name": "python",
   "nbconvert_exporter": "python",
   "pygments_lexer": "ipython3",
   "version": "3.10.16"
  }
 },
 "nbformat": 4,
 "nbformat_minor": 2
}
